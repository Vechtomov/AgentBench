{
 "cells": [
  {
   "cell_type": "code",
   "execution_count": null,
   "metadata": {},
   "outputs": [],
   "source": [
    "import sys\n",
    "from pathlib import Path\n",
    "\n",
    "sys.path.insert(0, str(Path().resolve().parent.parent))\n",
    "\n",
    "from src.server.tasks.os_interaction.task import Container\n",
    "\n",
    "container = Container(image=\"local-os/default\", sock_timeout=1)"
   ]
  },
  {
   "cell_type": "code",
   "execution_count": null,
   "metadata": {},
   "outputs": [],
   "source": [
    "import socket\n",
    "import struct\n",
    "import re\n",
    "from docker.transport.npipesocket import NpipeSocket\n",
    "import time\n",
    "\n",
    "\n",
    "def remove_ansi_codes(text):\n",
    "    ansi_escape = re.compile(r\"\\x1B[@-_][0-?]*[ -/]*[@-~]\")\n",
    "    return ansi_escape.sub(\"\", text)\n",
    "\n",
    "\n",
    "def reset_socket(container: Container):\n",
    "    kill_command = [\n",
    "        \"sh\",\n",
    "        \"-c\",\n",
    "        \"kill -9 $(ps aux | grep 'bash --login' | grep -v grep | awk '{print $2}')\",\n",
    "    ]\n",
    "    exec_instance = container.client.api.exec_create(\n",
    "        container.container.id, kill_command\n",
    "    )\n",
    "    exec_result = container.client.api.exec_start(exec_instance[\"Id\"])\n",
    "\n",
    "    container.exec_id = container.client.api.exec_create(\n",
    "        container.container.id, \"bash --login\", stdin=True, tty=True\n",
    "    )[\"Id\"]\n",
    "    container.sock = container.client.api.exec_start(container.exec_id, socket=True)\n",
    "    container.sock.settimeout(5)\n",
    "    # clear buffer\n",
    "    container.sock.recv(1000)\n",
    "\n",
    "\n",
    "class DummyOutput:\n",
    "    output: str\n",
    "    exit_code: int\n",
    "\n",
    "    def __init__(self, code, o):\n",
    "        self.output = o\n",
    "        self.exit_code = code\n",
    "\n",
    "\n",
    "def sock_read(sock: NpipeSocket, n: int, raise_err: bool = True):\n",
    "    buffer = bytearray(n)\n",
    "    try:\n",
    "        sock.recv_into(buf=buffer, nbytes=n)\n",
    "    except TimeoutError:\n",
    "        if raise_err:\n",
    "            raise\n",
    "        else:\n",
    "            return None\n",
    "    return buffer\n",
    "\n",
    "\n",
    "def read_data(sock: NpipeSocket):\n",
    "    data = sock_read(sock, 8, raise_err=False)\n",
    "    if not data:\n",
    "        print(\"no data\")\n",
    "        return None\n",
    "    _, n = struct.unpack(\">BxxxL\", data)\n",
    "    return sock_read(sock, n)\n",
    "\n",
    "\n",
    "def execute_short(sock: NpipeSocket, command: str):\n",
    "    if not isinstance(command, str):\n",
    "        return DummyOutput(-1, b\"\")\n",
    "\n",
    "    # flush socket\n",
    "    # sock_read(sock, 1000, raise_err=False)\n",
    "\n",
    "    print(\"Send command:\", command)\n",
    "    command_bytes = command.encode(\"utf-8\")\n",
    "    sock.send(command_bytes + b\"\\n\")\n",
    "    pattern = b\"\\x1b.+@.+[#|$] \"\n",
    "\n",
    "    output = \"\"\n",
    "    line = None\n",
    "    while True:\n",
    "        try:\n",
    "            start = time.time()\n",
    "            line = read_data(sock)\n",
    "            if line is None:\n",
    "                break\n",
    "            line = re.sub(pattern, b'', line)\n",
    "            s = remove_ansi_codes(line.decode(\"utf-8\"))\n",
    "            print(\"Line\", (time.time() - start) * 1000, s)\n",
    "            output += s\n",
    "        except TimeoutError:\n",
    "            break\n",
    "        except socket.timeout:\n",
    "            break\n",
    "    cleaned_output = re.sub('\\r', '', output)\n",
    "    cleaned_output = re.sub(command, '', cleaned_output, count=1)\n",
    "    print(\"---------RESULT---------:\", cleaned_output)\n",
    "    result = DummyOutput(0, cleaned_output)\n",
    "    return result"
   ]
  },
  {
   "cell_type": "code",
   "execution_count": null,
   "metadata": {},
   "outputs": [],
   "source": [
    "try:\n",
    "    # command = 'cd ~'\n",
    "    # command = 'cd /'\n",
    "    # command = 'while true; do :; done'\n",
    "    # command = 'cd /home'\n",
    "    # command = 'ls'\n",
    "    # command = 'pwd'\n",
    "    command = \"\"\"cd ~\n",
    "    echo hello world > test.txt\n",
    "    cat test.txt\"\"\"\n",
    "    # command = 'cat test.txt'\n",
    "    # command = \"\"\"cat test.txt\"\"\"\n",
    "    res = container.execute(command=command)\n",
    "except Exception as ex:\n",
    "    print(ex)\n",
    "    reset_socket(container)"
   ]
  },
  {
   "cell_type": "code",
   "execution_count": null,
   "metadata": {},
   "outputs": [],
   "source": [
    "res.output"
   ]
  },
  {
   "cell_type": "code",
   "execution_count": null,
   "metadata": {},
   "outputs": [],
   "source": [
    "command"
   ]
  },
  {
   "cell_type": "code",
   "execution_count": null,
   "metadata": {},
   "outputs": [],
   "source": [
    "cleaned = re.sub('\\r', '', res.output)\n",
    "cleaned"
   ]
  },
  {
   "cell_type": "code",
   "execution_count": null,
   "metadata": {},
   "outputs": [],
   "source": [
    "re.sub(command, '', cleaned)"
   ]
  },
  {
   "cell_type": "code",
   "execution_count": null,
   "metadata": {},
   "outputs": [],
   "source": [
    "command in cleaned"
   ]
  },
  {
   "cell_type": "code",
   "execution_count": null,
   "metadata": {},
   "outputs": [],
   "source": [
    "list(command.encode())\n",
    "\n",
    "zip_command_and_cleaned = list(zip(list(command.encode()), list(cleaned.encode())))\n",
    "print(zip_command_and_cleaned)\n"
   ]
  },
  {
   "cell_type": "code",
   "execution_count": null,
   "metadata": {},
   "outputs": [],
   "source": [
    "len(cleaned), len(command), len(zip_command_and_cleaned)"
   ]
  },
  {
   "cell_type": "code",
   "execution_count": null,
   "metadata": {},
   "outputs": [],
   "source": [
    "bytes(list(map(lambda x: x[0], zip_command_and_cleaned[-4:]))).decode(), bytes(list(map(lambda x: x[1], zip_command_and_cleaned[-4:]))).decode()"
   ]
  },
  {
   "cell_type": "code",
   "execution_count": null,
   "metadata": {},
   "outputs": [],
   "source": [
    "import itertools\n",
    "\n",
    "# Using takewhile\n",
    "result = list(\n",
    "    map(\n",
    "        lambda x: x[0],\n",
    "        list(itertools.takewhile(lambda x: x[0] == x[1], zip_command_and_cleaned)),\n",
    "    )\n",
    ")\n",
    "\n",
    "# Convert the result to a list and print it\n",
    "print(result)"
   ]
  },
  {
   "cell_type": "code",
   "execution_count": null,
   "metadata": {},
   "outputs": [],
   "source": [
    "bytes(result).decode()"
   ]
  },
  {
   "cell_type": "code",
   "execution_count": null,
   "metadata": {},
   "outputs": [],
   "source": [
    "re.sub(command.encode(), b'', cleaned.encode())"
   ]
  },
  {
   "cell_type": "code",
   "execution_count": null,
   "metadata": {},
   "outputs": [],
   "source": []
  },
  {
   "cell_type": "code",
   "execution_count": null,
   "metadata": {},
   "outputs": [],
   "source": [
    "reset_socket(container)\n"
   ]
  },
  {
   "cell_type": "code",
   "execution_count": null,
   "metadata": {},
   "outputs": [],
   "source": [
    "import win32file\n",
    "\n",
    "\n",
    "def close_handle(cont: Container):\n",
    "    time.sleep(2)\n",
    "    print(\"closing handle\")\n",
    "    win32file.CancelIo(cont.sock._handle)\n",
    "\n",
    "\n",
    "# t = Thread(target=close_handle, args=(container,))\n",
    "# t.start()\n",
    "data1 = sock_read(container.sock, 1000, raise_err=False)\n",
    "print(\"data1\", data1)\n",
    "data2 = sock_read(container.sock, 1000, raise_err=False)\n",
    "print(\"data2\", data2)"
   ]
  },
  {
   "cell_type": "code",
   "execution_count": null,
   "metadata": {},
   "outputs": [],
   "source": [
    "reset_socket(container)\n"
   ]
  },
  {
   "cell_type": "code",
   "execution_count": null,
   "metadata": {},
   "outputs": [],
   "source": [
    "def read_always(container: Container, ev: Event):\n",
    "    while True:\n",
    "        while not ev.is_set():\n",
    "            data = container.sock.recv(1000)\n",
    "            print(data)"
   ]
  },
  {
   "cell_type": "code",
   "execution_count": null,
   "metadata": {},
   "outputs": [],
   "source": [
    "kill_command = [\n",
    "    \"sh\",\n",
    "    \"-c\",\n",
    "    \"kill -9 $(ps aux | grep 'bash --login' | grep -v grep | awk '{print $2}')\",\n",
    "]\n",
    "# kill_command =  [\"sh\", \"-c\", \"ps aux | grep 'bash --login' | grep -v grep | awk '{print $2}'\"]\n",
    "exec_instance = container.client.api.exec_create(container.container.id, kill_command)\n",
    "exec_result = container.client.api.exec_start(exec_instance[\"Id\"])\n",
    "exec_result"
   ]
  }
 ],
 "metadata": {
  "kernelspec": {
   "display_name": "finetuning",
   "language": "python",
   "name": "python3"
  },
  "language_info": {
   "codemirror_mode": {
    "name": "ipython",
    "version": 3
   },
   "file_extension": ".py",
   "mimetype": "text/x-python",
   "name": "python",
   "nbconvert_exporter": "python",
   "pygments_lexer": "ipython3",
   "version": "3.10.9"
  }
 },
 "nbformat": 4,
 "nbformat_minor": 2
}

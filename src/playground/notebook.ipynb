{
 "cells": [
  {
   "cell_type": "code",
   "execution_count": null,
   "metadata": {},
   "outputs": [],
   "source": [
    "import json\n",
    "import re\n",
    "\n",
    "import docker\n",
    "import docker.models.containers\n",
    "\n",
    "import time\n",
    "import paramiko\n",
    "\n",
    "\n",
    "def create_ssh_client(\n",
    "    hostname=\"localhost\", port=2222, username=\"root\", password=\"1234\"\n",
    "):\n",
    "    client = paramiko.SSHClient()\n",
    "    client.set_missing_host_key_policy(paramiko.AutoAddPolicy())\n",
    "    client.connect(hostname, port=port, username=username, password=password)\n",
    "    return client\n",
    "\n",
    "\n",
    "def create_shell(client: paramiko.SSHClient):\n",
    "    channel = client.invoke_shell(width=1000)\n",
    "    return channel\n",
    "\n",
    "\n",
    "def clean_terminal_output(output):\n",
    "    ansi_escape = re.compile(r\"(\\x1b\\[[0-?]*[ -/]*[@-~])|(\\r)\")\n",
    "    cleaned_output = ansi_escape.sub(\"\", output)\n",
    "    return cleaned_output\n",
    "\n",
    "\n",
    "def extract_relevant_output(output):\n",
    "    # Adjusted pattern to match the Linux command prompt\n",
    "    pattern = re.compile(r\"(\\w+@\\w+:[~\\/\\w-]*[#\\$])\")\n",
    "\n",
    "    # Split the output based on the pattern\n",
    "    parts = pattern.split(output)\n",
    "\n",
    "    # Filter out empty strings and reconstruct the output\n",
    "    cleaned_output = \"\".join([part for part in parts if part.strip()])\n",
    "\n",
    "    # Exclude the first and last prompts from the reconstructed output\n",
    "    prompts = pattern.findall(cleaned_output)\n",
    "\n",
    "    if prompts:\n",
    "        first_prompt_pos = cleaned_output.find(prompts[0])\n",
    "        # last_prompt_pos = cleaned_output.rfind(prompts[-1])\n",
    "        cleaned_output = cleaned_output[first_prompt_pos:].strip()\n",
    "\n",
    "    return cleaned_output, prompts[-1]\n",
    "\n",
    "\n",
    "def execute_command_shell(channel: paramiko.Channel, command: str):\n",
    "    channel.send(command + \"\\n\")\n",
    "    while not channel.recv_ready():\n",
    "        time.sleep(0.1)\n",
    "\n",
    "    time.sleep(0.5)\n",
    "\n",
    "    output = b\"\"\n",
    "    while channel.recv_ready():\n",
    "        output += channel.recv(1024)\n",
    "\n",
    "    processed_output = output.decode(\"utf-8\").rstrip()\n",
    "    return clean_terminal_output(processed_output)\n",
    "\n",
    "\n",
    "class DummyOutput:\n",
    "    output: str\n",
    "    exit_code: int\n",
    "\n",
    "    def __init__(self, code, o):\n",
    "        self.output = o\n",
    "        self.exit_code = code\n",
    "\n",
    "\n",
    "class Container:\n",
    "    def __init__(self, image: str, port: int = 2222, username=\"root\", password=\"1234\"):\n",
    "        self.image = image\n",
    "        self.client = docker.from_env()\n",
    "        self.container: docker.models.containers.Container = self.client.containers.run(\n",
    "            image,\n",
    "            detach=True,\n",
    "            tty=True,\n",
    "            stdin_open=True,\n",
    "            remove=True,\n",
    "            labels={\"created_by\": \"os-pipeline\"},\n",
    "            ports={\"22/tcp\": port},\n",
    "        )\n",
    "        self.ssh_client = create_ssh_client(\n",
    "            port=port, username=username, password=password\n",
    "        )\n",
    "        self.channel = create_shell(self.ssh_client)\n",
    "        self.last_line = None\n",
    "\n",
    "    def __del__(self):\n",
    "        try:\n",
    "            self.channel.close()\n",
    "            self.ssh_client.close()\n",
    "            self.container.stop()\n",
    "        except:\n",
    "            pass\n",
    "\n",
    "    def execute(self, command: str):\n",
    "        if not isinstance(command, str):\n",
    "            return DummyOutput(-1, b\"\")\n",
    "\n",
    "        print(\"---------SEND CMD---------\")\n",
    "        print(command)\n",
    "        print(\"---------EXECUTING---------\")\n",
    "        result = execute_command_shell(self.channel, command)\n",
    "        print(result)\n",
    "        if self.last_line is not None:\n",
    "            result = self.last_line + result\n",
    "\n",
    "        result, last_line = extract_relevant_output(result)\n",
    "        self.last_line = last_line\n",
    "        print(\"---------RESULT---------\")\n",
    "        print(result)\n",
    "        return DummyOutput(0, result)\n",
    "\n",
    "    def execute_independent(self, command, *params):\n",
    "        # print(\"=== EXECUTING INDEPENDENT ===\\n\", command)\n",
    "        language, command = command\n",
    "        # if params:\n",
    "        #     print(\"== Parameters ==\\n\", params)\n",
    "        if language == \"bash\":\n",
    "            cmd = [\"bash\", \"-c\", command]\n",
    "            if params:\n",
    "                cmd.append(\"--\")\n",
    "                cmd.extend(params)\n",
    "        elif language == \"python\":\n",
    "            cmd = [\"python3\", \"-c\", command, *params]\n",
    "        elif language == \"c++\":\n",
    "            self.execute_independent(\n",
    "                (\n",
    "                    \"bash\",\n",
    "                    f'echo \"{json.dumps(command)}\" > /tmp/main.cpp && '\n",
    "                    f\"g++ -o /tmp/a.out /tmp/main.cpp\",\n",
    "                ),\n",
    "                None,\n",
    "            )\n",
    "            cmd = [\"/tmp/a.out\", *params]\n",
    "        elif language == \"c\":\n",
    "            self.execute_independent(\n",
    "                (\n",
    "                    \"bash\",\n",
    "                    f'echo \"{json.dumps(command)}\" > /tmp/main.cpp && '\n",
    "                    f\"gcc -o /tmp/a.out /tmp/main.cpp\",\n",
    "                ),\n",
    "                None,\n",
    "            )\n",
    "            cmd = [\"/tmp/a.out\", *params]\n",
    "        else:\n",
    "            raise ValueError(\"Unsupported language\")\n",
    "        return self.container.exec_run(cmd)"
   ]
  },
  {
   "cell_type": "code",
   "execution_count": 1,
   "metadata": {},
   "outputs": [
    {
     "name": "stderr",
     "output_type": "stream",
     "text": [
      "c:\\Users\\User\\anaconda3\\envs\\mistral\\lib\\site-packages\\paramiko\\transport.py:219: CryptographyDeprecationWarning: Blowfish has been deprecated\n",
      "  \"class\": algorithms.Blowfish,\n"
     ]
    }
   ],
   "source": [
    "import sys\n",
    "from pathlib import Path\n",
    "\n",
    "sys.path.insert(0, str(Path().resolve().parent.parent))\n",
    "\n",
    "from src.server.tasks.os_interaction.task import Container\n",
    "\n",
    "container = Container(image=\"local-os/ssh\")"
   ]
  },
  {
   "cell_type": "code",
   "execution_count": 3,
   "metadata": {},
   "outputs": [
    {
     "name": "stdout",
     "output_type": "stream",
     "text": [
      "---------SEND CMD---------\n",
      "cd ~\n",
      "    echo hello world > test.txt\n",
      "    cat test.txt\n",
      "---------EXECUTING---------\n",
      "cd ~\n",
      "root@adcfe07c0b9d:~#     echo hello world > test.txt\n",
      "root@adcfe07c0b9d:~#     cat test.txt\n",
      "hello world\n",
      "root@adcfe07c0b9d:~#\n",
      "---------RESULT---------\n",
      "root@adcfe07c0b9d:~#cd ~\n",
      "root@adcfe07c0b9d:~#     echo hello world > test.txt\n",
      "root@adcfe07c0b9d:~#     cat test.txt\n",
      "hello world\n",
      "root@adcfe07c0b9d:~#\n"
     ]
    }
   ],
   "source": [
    "try:\n",
    "    # command = 'cd ~'\n",
    "    # command = 'cd /'\n",
    "    # command = 'while true; do :; done'\n",
    "    # command = 'cd /home'\n",
    "    # command = 'ls'\n",
    "    # command = 'pwd'\n",
    "    command = \"\"\"cd ~\n",
    "    echo hello world > test.txt\n",
    "    cat test.txt\"\"\"\n",
    "#     command = \"\"\"\n",
    "# # find ~ -type f -name '*.c'\n",
    "# # \"\"\"\n",
    "#     command = \"\"\"\n",
    "# ps -eo user=,pid= | grep -v '^root' | awk '{print $2}' | sort -n | head -n 1 | awk '{print $1}'\n",
    "# \"\"\"\n",
    "    # command = 'cat test.txt'\n",
    "    # command = \"\"\"cat test.txt\"\"\"\n",
    "    res = container.execute(command=command)\n",
    "except Exception as ex:\n",
    "    print(ex)"
   ]
  },
  {
   "cell_type": "code",
   "execution_count": null,
   "metadata": {},
   "outputs": [],
   "source": [
    "import docker\n",
    "\n",
    "image = \"local-os/ssh\"\n",
    "client = docker.from_env()\n",
    "container = docker.models.containers.Container = client.containers.run(\n",
    "    image,\n",
    "    detach=True,\n",
    "    tty=True,\n",
    "    stdin_open=True,\n",
    "    remove=True,\n",
    "    labels={\"created_by\": \"os-pipeline\"},\n",
    "    ports={\"22/tcp\": 2222},\n",
    ")\n"
   ]
  },
  {
   "cell_type": "code",
   "execution_count": null,
   "metadata": {},
   "outputs": [],
   "source": [
    "import paramiko\n",
    "import time\n",
    "import re\n",
    "\n",
    "\n",
    "def create_client(hostname=\"localhost\", port=2222, username=\"root\", password=\"1234\"):\n",
    "    client = paramiko.SSHClient()\n",
    "    client.set_missing_host_key_policy(paramiko.AutoAddPolicy())\n",
    "    client.connect(hostname, port=port, username=username, password=password)\n",
    "    return client\n",
    "\n",
    "\n",
    "def create_shell(client: paramiko.SSHClient):\n",
    "    channel = client.invoke_shell(width=1000)\n",
    "    return channel\n",
    "\n",
    "\n",
    "def clean_terminal_output(output):\n",
    "    ansi_escape = re.compile(r\"(\\x1b\\[[0-?]*[ -/]*[@-~])|(\\r)\")\n",
    "    cleaned_output = ansi_escape.sub(\"\", output)\n",
    "    return cleaned_output\n",
    "\n",
    "\n",
    "def extract_relevant_output(output):\n",
    "    # Adjusted pattern to match the Linux command prompt\n",
    "    pattern = re.compile(r\"(\\w+@\\w+:[~\\/\\w-]*[#\\$])\")\n",
    "\n",
    "    # Split the output based on the pattern\n",
    "    parts = pattern.split(output)\n",
    "\n",
    "    # Filter out empty strings and reconstruct the output\n",
    "    cleaned_output = \"\".join([part for part in parts if part.strip()])\n",
    "\n",
    "    # Exclude the first and last prompts from the reconstructed output\n",
    "    prompts = pattern.findall(cleaned_output)\n",
    "\n",
    "    if prompts:\n",
    "        first_prompt_pos = cleaned_output.find(prompts[0])\n",
    "        last_prompt_pos = cleaned_output.rfind(prompts[-1])\n",
    "        cleaned_output = cleaned_output[first_prompt_pos:last_prompt_pos].strip()\n",
    "\n",
    "    return cleaned_output\n",
    "\n",
    "\n",
    "def execute_command_shell(channel: paramiko.Channel, command: str):\n",
    "    channel.send(command + \"\\n\")\n",
    "    while not channel.recv_ready():\n",
    "        time.sleep(0.1)\n",
    "\n",
    "    time.sleep(0.5)\n",
    "\n",
    "    output = b\"\"\n",
    "    while channel.recv_ready():\n",
    "        output += channel.recv(1024)\n",
    "\n",
    "    processed_output = output.decode(\"utf-8\").rstrip()\n",
    "    res = clean_terminal_output(processed_output)\n",
    "    print(res)\n",
    "    relevant = extract_relevant_output(res)\n",
    "    print()\n",
    "    print(relevant)\n",
    "    return relevant\n",
    "\n",
    "\n",
    "client = create_client()\n",
    "channel = create_shell(client)\n",
    "\n",
    "# execute_command_shell(channel, \"stty sane\")\n",
    "# command = \"ps -eo user=,pid= | grep -v '^root' | awk '{print $2}' | sort -n | head -n 1 | awk '{print $1}'\"\n",
    "command = \"\"\"\n",
    "cd /home\n",
    "echo hello world\n",
    "mkdir tst\n",
    "cd tst\n",
    "echo this is a test > test.txt\n",
    "cat test.txt\n",
    "\"\"\".strip()\n",
    "execute_command_shell(channel, command)\n",
    "\n",
    "channel.close()\n",
    "client.close()"
   ]
  },
  {
   "cell_type": "code",
   "execution_count": null,
   "metadata": {},
   "outputs": [],
   "source": [
    "len(\"find /etc -type f -exec ls -l {} \\; | awk '{print $5, $9}' |\".encode())"
   ]
  },
  {
   "cell_type": "code",
   "execution_count": null,
   "metadata": {},
   "outputs": [],
   "source": [
    "''.join(['012'] * 50)"
   ]
  },
  {
   "cell_type": "code",
   "execution_count": null,
   "metadata": {},
   "outputs": [],
   "source": [
    "len(b'echo 012345678901234567890123456789012345678901234567890123456789012345678901234\"')"
   ]
  },
  {
   "cell_type": "code",
   "execution_count": null,
   "metadata": {},
   "outputs": [],
   "source": [
    "channel.close()\n",
    "client.close()"
   ]
  },
  {
   "cell_type": "code",
   "execution_count": null,
   "metadata": {},
   "outputs": [],
   "source": [
    "command"
   ]
  },
  {
   "cell_type": "code",
   "execution_count": null,
   "metadata": {},
   "outputs": [],
   "source": [
    "cleaned = re.sub('\\r', '', res.output)\n",
    "cleaned"
   ]
  },
  {
   "cell_type": "code",
   "execution_count": null,
   "metadata": {},
   "outputs": [],
   "source": [
    "cleaned, command"
   ]
  },
  {
   "cell_type": "code",
   "execution_count": null,
   "metadata": {},
   "outputs": [],
   "source": [
    "command in cleaned"
   ]
  },
  {
   "cell_type": "code",
   "execution_count": null,
   "metadata": {},
   "outputs": [],
   "source": [
    "re.sub(re.escape(command), '', cleaned)"
   ]
  },
  {
   "cell_type": "code",
   "execution_count": null,
   "metadata": {},
   "outputs": [],
   "source": [
    "cleaned.replace(command, '')"
   ]
  },
  {
   "cell_type": "code",
   "execution_count": null,
   "metadata": {},
   "outputs": [],
   "source": [
    "command"
   ]
  },
  {
   "cell_type": "code",
   "execution_count": null,
   "metadata": {},
   "outputs": [],
   "source": [
    "list(command.encode())\n",
    "\n",
    "zip_command_and_cleaned = list(zip(list(command.encode()), list(cleaned.encode())))\n",
    "print(zip_command_and_cleaned)\n"
   ]
  },
  {
   "cell_type": "code",
   "execution_count": null,
   "metadata": {},
   "outputs": [],
   "source": [
    "len(cleaned), len(command), len(zip_command_and_cleaned)"
   ]
  },
  {
   "cell_type": "code",
   "execution_count": null,
   "metadata": {},
   "outputs": [],
   "source": [
    "bytes(list(map(lambda x: x[0], zip_command_and_cleaned[-4:]))).decode(), bytes(list(map(lambda x: x[1], zip_command_and_cleaned[-4:]))).decode()"
   ]
  },
  {
   "cell_type": "code",
   "execution_count": null,
   "metadata": {},
   "outputs": [],
   "source": [
    "import itertools\n",
    "\n",
    "# Using takewhile\n",
    "result = list(\n",
    "    map(\n",
    "        lambda x: x[0],\n",
    "        list(itertools.takewhile(lambda x: x[0] == x[1], zip_command_and_cleaned)),\n",
    "    )\n",
    ")\n",
    "\n",
    "# Convert the result to a list and print it\n",
    "print(result)"
   ]
  },
  {
   "cell_type": "code",
   "execution_count": null,
   "metadata": {},
   "outputs": [],
   "source": [
    "bytes(result).decode()"
   ]
  },
  {
   "cell_type": "code",
   "execution_count": null,
   "metadata": {},
   "outputs": [],
   "source": [
    "re.sub(command.encode(), b'', cleaned.encode())"
   ]
  },
  {
   "cell_type": "code",
   "execution_count": null,
   "metadata": {},
   "outputs": [],
   "source": []
  },
  {
   "cell_type": "code",
   "execution_count": null,
   "metadata": {},
   "outputs": [],
   "source": [
    "reset_socket(container)\n"
   ]
  },
  {
   "cell_type": "code",
   "execution_count": null,
   "metadata": {},
   "outputs": [],
   "source": [
    "a = b\"\\r\\n\\x1b[?2004l\\r\\x1b[?2004h\\x1b]0;root@46e6e0db0346: /\\x07root@46e6e0db0346:/# ps -eo user=,pid= | grep -v \\'^root\\' | awk \\'{print $2}\\' | sor\\rrt -n | head -n 1 | awk \\'{print $1}\\'\\r\\n\\x1b[?2004l\\r\""
   ]
  },
  {
   "cell_type": "code",
   "execution_count": null,
   "metadata": {},
   "outputs": [],
   "source": [
    "print(a)"
   ]
  },
  {
   "cell_type": "code",
   "execution_count": null,
   "metadata": {},
   "outputs": [],
   "source": [
    "re.sub(b\"\\r\", b\"\", a)"
   ]
  },
  {
   "cell_type": "code",
   "execution_count": null,
   "metadata": {},
   "outputs": [],
   "source": [
    "import re\n",
    "\n",
    "def clean_terminal_output(output):\n",
    "    # Regex pattern to match ANSI escape sequences and terminal control characters\n",
    "    ansi_escape = re.compile(r'(\\x1b\\[[0-?]*[ -/]*[@-~])|(\\r)')\n",
    "    cleaned_output = ansi_escape.sub('', output)\n",
    "    return cleaned_output\n",
    "\n",
    "# Sample output string\n",
    "output = b'pwd\\r\\n\\x1b[?2004l\\r/home\\r\\n\\x1b[?2004hroot@89032952e974:/home# '\n",
    "\n",
    "# Cleaning the output\n",
    "cleaned_output = clean_terminal_output(output.decode(\"utf-8\"))\n",
    "cleaned_output"
   ]
  },
  {
   "cell_type": "code",
   "execution_count": null,
   "metadata": {},
   "outputs": [],
   "source": [
    "print(cleaned_output)"
   ]
  },
  {
   "cell_type": "code",
   "execution_count": null,
   "metadata": {},
   "outputs": [],
   "source": [
    "import re\n",
    "\n",
    "def extract_relevant_output(output):\n",
    "    # General pattern to match a typical command prompt (e.g., 'root@hostname:~# ')\n",
    "    # Adjust the pattern if your prompt significantly differs from this format\n",
    "    pattern = re.compile(r'(\\S+@\\S+:[^\\n]+[#\\$>])\\s+.*?\\1', re.DOTALL)\n",
    "\n",
    "    # Search for the pattern in the output\n",
    "    match = pattern.search(output)\n",
    "    if match:\n",
    "        # Extract the content, removing the prompts\n",
    "        content = match.group()\n",
    "        content = content.replace(match.group(1), '').strip()\n",
    "        return content\n",
    "    else:\n",
    "        return output\n",
    "\n",
    "# Usage with your output\n",
    "command_output = \"\"\"\n",
    "Last login: Sat Dec 23 18:05:28 2023 from 172.17.0.1\n",
    "cd ~\n",
    "echo hello world\n",
    "echo this is a test > test.txt\n",
    "cat test.txt\n",
    "root@89032952e974:~# cd ~\n",
    "root@89032952e974:~# echo hello world\n",
    "hello world\n",
    "root@89032952e974:~# echo this is a test > test.txt\n",
    "root@89032952e974:~# cat test.txt\n",
    "this is a test\n",
    "root@89032952e974:~#\n",
    "\"\"\".strip()\n",
    "\n",
    "cleaned_output = extract_relevant_output(command_output)\n",
    "print(cleaned_output)\n"
   ]
  },
  {
   "cell_type": "code",
   "execution_count": null,
   "metadata": {},
   "outputs": [],
   "source": [
    "def extract_relevant_output_v4(output):\n",
    "    # Adjusted pattern to match the Linux command prompt\n",
    "    pattern = re.compile(r'(\\w+@\\w+:[~\\/\\w-]*[#\\$])')\n",
    "\n",
    "    # Split the output based on the pattern\n",
    "    parts = pattern.split(output)\n",
    "\n",
    "    # Filter out empty strings and reconstruct the output\n",
    "    cleaned_output = ''.join([part for part in parts if part.strip()])\n",
    "\n",
    "    # Exclude the first and last prompts from the reconstructed output\n",
    "    prompts = pattern.findall(cleaned_output)\n",
    "    \n",
    "    if prompts:\n",
    "        first_prompt_pos = cleaned_output.find(prompts[0])\n",
    "        last_prompt_pos = cleaned_output.rfind(prompts[-1])\n",
    "        cleaned_output = cleaned_output[first_prompt_pos:last_prompt_pos].strip()\n",
    "\n",
    "    return cleaned_output\n",
    "\n",
    "# Apply the updated function to the provided output\n",
    "cleaned_output_v4 = extract_relevant_output_v4(command_output)\n",
    "print(cleaned_output_v4)\n"
   ]
  },
  {
   "cell_type": "code",
   "execution_count": null,
   "metadata": {},
   "outputs": [],
   "source": [
    "pattern = re.compile(r'(\\w+@\\w+:[~\\/\\w-]*[#\\$])')\n",
    "\n",
    "    # Split the output based on the pattern\n",
    "parts = pattern.split(command_output)\n",
    "\n",
    "# Filter out empty strings and reconstruct the output\n",
    "cleaned_output = ''.join([part for part in parts if part.strip()])\n",
    "\n",
    "# Exclude the first and last prompts from the reconstructed output\n",
    "prompts = pattern.findall(cleaned_output)\n",
    "prompts"
   ]
  }
 ],
 "metadata": {
  "kernelspec": {
   "display_name": "finetuning",
   "language": "python",
   "name": "python3"
  },
  "language_info": {
   "codemirror_mode": {
    "name": "ipython",
    "version": 3
   },
   "file_extension": ".py",
   "mimetype": "text/x-python",
   "name": "python",
   "nbconvert_exporter": "python",
   "pygments_lexer": "ipython3",
   "version": "3.10.9"
  }
 },
 "nbformat": 4,
 "nbformat_minor": 2
}
